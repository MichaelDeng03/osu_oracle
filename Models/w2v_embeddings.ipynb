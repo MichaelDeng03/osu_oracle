{
 "cells": [
  {
   "cell_type": "code",
   "execution_count": 2,
   "metadata": {},
   "outputs": [],
   "source": [
    "import sqlite3\n",
    "from ossapi import Ossapi\n",
    "from time import strftime, localtime\n",
    "import pandas as pd\n",
    "from gensim.test.utils import datapath\n",
    "from gensim import utils\n",
    "import gensim\n",
    "from gensim.models.callbacks import CallbackAny2Vec\n",
    "from sklearn.model_selection import train_test_split\n",
    "import os\n",
    "from sklearn.neighbors import NearestNeighbors\n",
    "\n",
    "import numpy as np\n",
    "import sys\n",
    "\n",
    "sys.path.insert(0, '../') # Add parent directory because data is in parent directory"
   ]
  },
  {
   "cell_type": "code",
   "execution_count": 4,
   "metadata": {},
   "outputs": [],
   "source": [
    "# df = pd.read_parquet('../data/top_sentences_std.parquet', engine='pyarrow')\n",
    "# sentences = df['sentences'].tolist()\n",
    "df = pd.read_parquet('../data/hiscore_updates.parquet', engine='pyarrow')\n"
   ]
  },
  {
   "cell_type": "code",
   "execution_count": 6,
   "metadata": {},
   "outputs": [
    {
     "data": {
      "text/plain": [
       "56995129"
      ]
     },
     "execution_count": 6,
     "metadata": {},
     "output_type": "execute_result"
    }
   ],
   "source": [
    "len(df)"
   ]
  },
  {
   "cell_type": "code",
   "execution_count": 24,
   "metadata": {},
   "outputs": [
    {
     "name": "stdout",
     "output_type": "stream",
     "text": [
      "Loss after epoch 0: 8154777.0\n",
      "Loss after epoch 1: 6797529.0\n",
      "Loss after epoch 2: 6145848.0\n",
      "Loss after epoch 3: 5913650.0\n",
      "Loss after epoch 4: 6006714.0\n",
      "Loss after epoch 5: 4759366.0\n",
      "Loss after epoch 6: 4690960.0\n",
      "Loss after epoch 7: 4766720.0\n",
      "Loss after epoch 8: 4765056.0\n",
      "Loss after epoch 9: 4776596.0\n",
      "Loss after epoch 10: 4844796.0\n",
      "Loss after epoch 11: 4826476.0\n",
      "Loss after epoch 12: 1819424.0\n",
      "Loss after epoch 13: 1364048.0\n",
      "Loss after epoch 14: 1381712.0\n",
      "Loss after epoch 15: 1360128.0\n",
      "Loss after epoch 16: 1346272.0\n",
      "Loss after epoch 17: 1353440.0\n",
      "Loss after epoch 18: 1363736.0\n",
      "Loss after epoch 19: 1373080.0\n",
      "Loss after epoch 20: 1371032.0\n",
      "Loss after epoch 21: 1355536.0\n",
      "Loss after epoch 22: 1368648.0\n",
      "Loss after epoch 23: 1358768.0\n",
      "Loss after epoch 24: 1355504.0\n",
      "Loss after epoch 25: 1336384.0\n",
      "Loss after epoch 26: 1312016.0\n",
      "Loss after epoch 27: 1316920.0\n",
      "Loss after epoch 28: 1326504.0\n",
      "Loss after epoch 29: 1317408.0\n",
      "Loss after epoch 30: 1317184.0\n",
      "Loss after epoch 31: 1297480.0\n",
      "Loss after epoch 32: 1289848.0\n",
      "Loss after epoch 33: 1281968.0\n",
      "Loss after epoch 34: 1273096.0\n",
      "Loss after epoch 35: 1233376.0\n",
      "Loss after epoch 36: 1253936.0\n",
      "Loss after epoch 37: 1232784.0\n",
      "Loss after epoch 38: 1219848.0\n",
      "Loss after epoch 39: 1194464.0\n",
      "Loss after epoch 40: 1193296.0\n",
      "Loss after epoch 41: 1172368.0\n",
      "Loss after epoch 42: 1165288.0\n",
      "Loss after epoch 43: 1141648.0\n",
      "Loss after epoch 44: 1125640.0\n",
      "Loss after epoch 45: 1101400.0\n",
      "Loss after epoch 46: 1090880.0\n",
      "Loss after epoch 47: 1097720.0\n",
      "Loss after epoch 48: 1067024.0\n",
      "Loss after epoch 49: 1060024.0\n",
      "Loss after epoch 50: 1044456.0\n",
      "Loss after epoch 51: 1007632.0\n",
      "Loss after epoch 52: 1009976.0\n",
      "Loss after epoch 53: 990176.0\n",
      "Loss after epoch 54: 961040.0\n",
      "Loss after epoch 55: 955232.0\n",
      "Loss after epoch 56: 934216.0\n",
      "Loss after epoch 57: 909520.0\n",
      "Loss after epoch 58: 880448.0\n",
      "Loss after epoch 59: 868920.0\n",
      "Loss after epoch 60: 847480.0\n",
      "Loss after epoch 61: 829792.0\n",
      "Loss after epoch 62: 802592.0\n",
      "Loss after epoch 63: 783248.0\n",
      "Loss after epoch 64: 750040.0\n",
      "Loss after epoch 65: 739456.0\n",
      "Loss after epoch 66: 689160.0\n",
      "Loss after epoch 67: 646656.0\n",
      "Loss after epoch 68: 605488.0\n",
      "Loss after epoch 69: 578712.0\n"
     ]
    }
   ],
   "source": [
    "class MonitorCallback(CallbackAny2Vec):\n",
    "    def __init__(self):\n",
    "        self.epoch = 0\n",
    "\n",
    "    def on_epoch_end(\n",
    "        self, model\n",
    "    ):  # word2vec accumulates loss, so we need to subtract the previous loss\n",
    "        loss = model.get_latest_training_loss()\n",
    "        if self.epoch == 0:\n",
    "            print(\"Loss after epoch {}: {}\".format(self.epoch, loss))\n",
    "        else:\n",
    "            print(\n",
    "                \"Loss after epoch {}: {}\".format(\n",
    "                    self.epoch, loss - self.loss_previous_step\n",
    "                )\n",
    "            )\n",
    "        self.epoch += 1\n",
    "        self.loss_previous_step = loss\n",
    "\n",
    "model = gensim.models.Word2Vec(\n",
    "    sentences=sentences,\n",
    "    vector_size=15,\n",
    "    epochs=70,\n",
    "    window=30,\n",
    "    min_count=5,  \n",
    "    workers=16,\n",
    "    sg=0,\n",
    "    hs=0, \n",
    "    negative=20,\n",
    "    ns_exponent=0.9, \n",
    "    compute_loss=True,\n",
    "    callbacks=[MonitorCallback()],\n",
    ")\n",
    "\n",
    "# loss = model.get_latest_training_loss()"
   ]
  },
  {
   "cell_type": "code",
   "execution_count": 25,
   "metadata": {},
   "outputs": [],
   "source": [
    "model.save('word2vec_3.model')"
   ]
  },
  {
   "cell_type": "code",
   "execution_count": 15,
   "metadata": {},
   "outputs": [],
   "source": [
    "# # word2vec_model = model\n",
    "# # else:\n",
    "#     # word2vec_model = gensim.models.Word2Vec.load(\"word2vec-pp/word2vec-pp\")\n",
    "# model = gensim.models.Word2Vec.load(\"w2v_model/w2v_model\")\n",
    "# model.wv.index_to_key[10000:20000]\n",
    "word2vec_model = model\n",
    "NN = NearestNeighbors(n_neighbors=50, algorithm='ball_tree').fit(word2vec_model.wv.vectors)"
   ]
  },
  {
   "cell_type": "code",
   "execution_count": 16,
   "metadata": {},
   "outputs": [],
   "source": [
    "import sys\n",
    "sys.path.insert(0, \"../\")\n",
    "from data.classes import Score\n",
    "\n",
    "OSU_CLIENT_ID = os.environ.get(\"OSU_CLIENT_ID\")\n",
    "OSU_CLIENT_SECRET = os.environ.get(\"OSU_CLIENT_SECRET\")\n",
    "user_id = '28956125'\n",
    "\n",
    "api = Ossapi(OSU_CLIENT_ID, OSU_CLIENT_SECRET)\n",
    "top_scores = api.user_scores(user_id, type=\"best\", mode=\"osu\", limit=100)\n",
    "\n",
    "top_scores = [Score(score) for score in top_scores]\n",
    "top_scores.sort(key=lambda x: x.pp, reverse=True)\n",
    "\n",
    "# top_scores = [\n",
    "#     str(score.beatmap_id) + \"-\" + str(score.mods) for score in top_scores # Limit to top 50\n",
    "# ]\n",
    "\n",
    "top_scores = ['1872812-0']\n",
    "top_scores_vec = [\n",
    "    score for score in top_scores if score in word2vec_model.wv.index_to_key\n",
    "]\n",
    "top_scores_vec = [word2vec_model.wv[score] for score in top_scores_vec]\n",
    "\n",
    "neighbor = NN.kneighbors([np.mean(top_scores_vec, axis=0)])"
   ]
  },
  {
   "cell_type": "code",
   "execution_count": 17,
   "metadata": {},
   "outputs": [
    {
     "data": {
      "text/plain": [
       "['845391-0',\n",
       " '2477065-0',\n",
       " '1637465-0',\n",
       " '1750943-0',\n",
       " '620789-0',\n",
       " '3018109-0',\n",
       " '635679-0',\n",
       " '1093605-0',\n",
       " '370440-0',\n",
       " '442170-0',\n",
       " '1557471-0',\n",
       " '1744286-0',\n",
       " '771858-0',\n",
       " '1045757-0',\n",
       " '931860-0',\n",
       " '386728-0',\n",
       " '2615748-0',\n",
       " '1188172-0',\n",
       " '1959500-0',\n",
       " '1502678-0',\n",
       " '2023961-0',\n",
       " '1972802-0',\n",
       " '655300-0',\n",
       " '2012740-0',\n",
       " '855536-0',\n",
       " '2077120-0',\n",
       " '2333933-0',\n",
       " '1868547-0',\n",
       " '2826252-0',\n",
       " '2357806-0',\n",
       " '767774-0',\n",
       " '221777-0',\n",
       " '2619918-0',\n",
       " '589969-0',\n",
       " '381928-0',\n",
       " '1863228-0',\n",
       " '3211514-0',\n",
       " '3385965-0',\n",
       " '209276-0',\n",
       " '2403266-0',\n",
       " '693195-0',\n",
       " '2779000-0',\n",
       " '2920787-0',\n",
       " '2015472-0',\n",
       " '2309955-0',\n",
       " '720590-0',\n",
       " '1601387-0',\n",
       " '1432512-0',\n",
       " '793845-0']"
      ]
     },
     "execution_count": 17,
     "metadata": {},
     "output_type": "execute_result"
    }
   ],
   "source": [
    "# Get the top 5 beatmaps\n",
    "beatmaps = [model.wv.index_to_key[i] for i in neighbor[1][0]]\n",
    "beatmaps = [beatmap for beatmap in beatmaps if beatmap not in top_scores]\n",
    "\n",
    "beatmaps"
   ]
  }
 ],
 "metadata": {
  "kernelspec": {
   "display_name": "osu_oracle_venv",
   "language": "python",
   "name": "python3"
  },
  "language_info": {
   "codemirror_mode": {
    "name": "ipython",
    "version": 3
   },
   "file_extension": ".py",
   "mimetype": "text/x-python",
   "name": "python",
   "nbconvert_exporter": "python",
   "pygments_lexer": "ipython3",
   "version": "3.10.12"
  }
 },
 "nbformat": 4,
 "nbformat_minor": 2
}
