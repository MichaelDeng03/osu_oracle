{
 "cells": [
  {
   "cell_type": "code",
   "execution_count": null,
   "metadata": {},
   "outputs": [],
   "source": [
    "from db.orm.models import Beatmap, Modes, Beatmapset, User, Score\n",
    "from db.orm.setup import Session\n",
    "from db.crud import create_generic, get_generic"
   ]
  },
  {
   "cell_type": "code",
   "execution_count": null,
   "metadata": {},
   "outputs": [],
   "source": [
    "with Session() as session:\n",
    "    beatmap = Beatmap(mode=Modes.taiko, beatmapset_id=1)\n",
    "    create_generic(session, beatmap)"
   ]
  },
  {
   "cell_type": "code",
   "execution_count": null,
   "metadata": {},
   "outputs": [],
   "source": [
    "with Session() as session:\n",
    "    beatmapset = Beatmapset(id=20)\n",
    "    create_generic(session, beatmapset)"
   ]
  },
  {
   "cell_type": "code",
   "execution_count": null,
   "metadata": {},
   "outputs": [],
   "source": [
    "with Session() as session:\n",
    "    beatmapset = get_generic(session, Beatmapset, model_id=1)\n",
    "    print(beatmapset)\n",
    "    for beatmap in beatmapset.beatmaps:\n",
    "        beatmap = get_generic(session, Beatmap, model_id=beatmap.id)\n",
    "        print(beatmap)"
   ]
  }
 ],
 "metadata": {
  "kernelspec": {
   "display_name": ".venv",
   "language": "python",
   "name": "python3"
  },
  "language_info": {
   "codemirror_mode": {
    "name": "ipython",
    "version": 3
   },
   "file_extension": ".py",
   "mimetype": "text/x-python",
   "name": "python",
   "nbconvert_exporter": "python",
   "pygments_lexer": "ipython3",
   "version": "3.11.9"
  }
 },
 "nbformat": 4,
 "nbformat_minor": 2
}
