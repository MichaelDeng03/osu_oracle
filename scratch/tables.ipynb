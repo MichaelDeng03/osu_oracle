{
 "cells": [
  {
   "cell_type": "code",
   "execution_count": 7,
   "metadata": {},
   "outputs": [],
   "source": [
    "from sqlalchemy import create_engine\n",
    "from sqlalchemy.orm import sessionmaker\n",
    "from osu_oracle.models import User, Score, Beatmap, Beatmapset, Base"
   ]
  },
  {
   "cell_type": "code",
   "execution_count": 2,
   "metadata": {},
   "outputs": [],
   "source": [
    "DATABASE_URL = \"sqlite:///osu_oracle.db\"\n",
    "engine = create_engine(DATABASE_URL, echo=True)"
   ]
  },
  {
   "cell_type": "code",
   "execution_count": 8,
   "metadata": {},
   "outputs": [
    {
     "name": "stdout",
     "output_type": "stream",
     "text": [
      "2024-09-04 21:43:16,399 INFO sqlalchemy.engine.Engine BEGIN (implicit)\n",
      "2024-09-04 21:43:16,403 INFO sqlalchemy.engine.Engine PRAGMA main.table_info(\"users\")\n",
      "2024-09-04 21:43:16,404 INFO sqlalchemy.engine.Engine [raw sql] ()\n",
      "2024-09-04 21:43:16,409 INFO sqlalchemy.engine.Engine PRAGMA temp.table_info(\"users\")\n",
      "2024-09-04 21:43:16,411 INFO sqlalchemy.engine.Engine [raw sql] ()\n",
      "2024-09-04 21:43:16,412 INFO sqlalchemy.engine.Engine PRAGMA main.table_info(\"scores\")\n",
      "2024-09-04 21:43:16,414 INFO sqlalchemy.engine.Engine [raw sql] ()\n",
      "2024-09-04 21:43:16,417 INFO sqlalchemy.engine.Engine PRAGMA temp.table_info(\"scores\")\n",
      "2024-09-04 21:43:16,418 INFO sqlalchemy.engine.Engine [raw sql] ()\n",
      "2024-09-04 21:43:16,420 INFO sqlalchemy.engine.Engine PRAGMA main.table_info(\"beatmaps\")\n",
      "2024-09-04 21:43:16,421 INFO sqlalchemy.engine.Engine [raw sql] ()\n",
      "2024-09-04 21:43:16,425 INFO sqlalchemy.engine.Engine PRAGMA temp.table_info(\"beatmaps\")\n",
      "2024-09-04 21:43:16,426 INFO sqlalchemy.engine.Engine [raw sql] ()\n",
      "2024-09-04 21:43:16,427 INFO sqlalchemy.engine.Engine PRAGMA main.table_info(\"beatmapsets\")\n",
      "2024-09-04 21:43:16,428 INFO sqlalchemy.engine.Engine [raw sql] ()\n",
      "2024-09-04 21:43:16,430 INFO sqlalchemy.engine.Engine PRAGMA temp.table_info(\"beatmapsets\")\n",
      "2024-09-04 21:43:16,432 INFO sqlalchemy.engine.Engine [raw sql] ()\n",
      "2024-09-04 21:43:16,435 INFO sqlalchemy.engine.Engine \n",
      "CREATE TABLE users (\n",
      "\tuser_id INTEGER NOT NULL, \n",
      "\tusername VARCHAR(50), \n",
      "\ttotal_pp FLOAT, \n",
      "\thit_acc FLOAT, \n",
      "\tplaytime INTEGER, \n",
      "\tcountry VARCHAR(2), \n",
      "\tupdate_date DATETIME, \n",
      "\tPRIMARY KEY (user_id)\n",
      ")\n",
      "\n",
      "\n",
      "2024-09-04 21:43:16,437 INFO sqlalchemy.engine.Engine [no key 0.00161s] ()\n",
      "2024-09-04 21:43:16,461 INFO sqlalchemy.engine.Engine \n",
      "CREATE TABLE beatmapsets (\n",
      "\tbeatmapset_id INTEGER NOT NULL, \n",
      "\tlanguage VARCHAR(20), \n",
      "\tranked_date DATETIME, \n",
      "\ttags VARCHAR(50), \n",
      "\ttitle VARCHAR(50), \n",
      "\tartist VARCHAR(50), \n",
      "\tauthor_id INTEGER, \n",
      "\tPRIMARY KEY (beatmapset_id), \n",
      "\tFOREIGN KEY(author_id) REFERENCES users (user_id)\n",
      ")\n",
      "\n",
      "\n",
      "2024-09-04 21:43:16,462 INFO sqlalchemy.engine.Engine [no key 0.00158s] ()\n",
      "2024-09-04 21:43:16,479 INFO sqlalchemy.engine.Engine \n",
      "CREATE TABLE beatmaps (\n",
      "\tbeatmap_id INTEGER NOT NULL, \n",
      "\tbeatmapset_id INTEGER NOT NULL, \n",
      "\tdifficulty_rating FLOAT, \n",
      "\tbpm FLOAT, \n",
      "\tcount_circles INTEGER, \n",
      "\tcount_sliders INTEGER, \n",
      "\tcount_spinners INTEGER, \n",
      "\tcs FLOAT, \n",
      "\tdrain FLOAT, \n",
      "\taccuracy FLOAT, \n",
      "\tar FLOAT, \n",
      "\tmax_combo INTEGER, \n",
      "\tlength_seconds INTEGER, \n",
      "\tauthor_id INTEGER, \n",
      "\tmode_int INTEGER, \n",
      "\tversion VARCHAR(50), \n",
      "\tPRIMARY KEY (beatmap_id), \n",
      "\tFOREIGN KEY(beatmapset_id) REFERENCES beatmapsets (beatmapset_id)\n",
      ")\n",
      "\n",
      "\n",
      "2024-09-04 21:43:16,481 INFO sqlalchemy.engine.Engine [no key 0.00190s] ()\n",
      "2024-09-04 21:43:16,497 INFO sqlalchemy.engine.Engine \n",
      "CREATE TABLE scores (\n",
      "\tscore_id INTEGER NOT NULL, \n",
      "\tuser_id INTEGER NOT NULL, \n",
      "\tbeatmap_id INTEGER NOT NULL, \n",
      "\tmods INTEGER NOT NULL, \n",
      "\tmode VARCHAR(5), \n",
      "\tmax_combo INTEGER, \n",
      "\tpp FLOAT, \n",
      "\trank VARCHAR(5), \n",
      "\tcreated_at DATETIME, \n",
      "\tPRIMARY KEY (score_id), \n",
      "\tFOREIGN KEY(user_id) REFERENCES users (user_id), \n",
      "\tFOREIGN KEY(beatmap_id) REFERENCES beatmaps (beatmap_id)\n",
      ")\n",
      "\n",
      "\n",
      "2024-09-04 21:43:16,499 INFO sqlalchemy.engine.Engine [no key 0.00208s] ()\n",
      "2024-09-04 21:43:16,517 INFO sqlalchemy.engine.Engine COMMIT\n"
     ]
    }
   ],
   "source": [
    "Session = sessionmaker(bind=engine)\n",
    "session = Session()\n",
    "Base.metadata.create_all(engine)"
   ]
  },
  {
   "cell_type": "code",
   "execution_count": 9,
   "metadata": {},
   "outputs": [],
   "source": [
    "from osu_oracle.models import User\n",
    "from datetime import datetime\n",
    "\n",
    "# Create a new User object\n",
    "new_user = User(\n",
    "    user_id=12345,\n",
    "    username=\"EggTofu\",\n",
    "    total_pp=5000.25,\n",
    "    hit_acc=98.76,\n",
    "    playtime=3600,\n",
    "    country=\"US\",\n",
    "    update_date=datetime.utcnow(),\n",
    ")"
   ]
  },
  {
   "cell_type": "code",
   "execution_count": 10,
   "metadata": {},
   "outputs": [
    {
     "name": "stdout",
     "output_type": "stream",
     "text": [
      "2024-09-04 21:44:28,194 INFO sqlalchemy.engine.Engine BEGIN (implicit)\n",
      "2024-09-04 21:44:28,196 INFO sqlalchemy.engine.Engine INSERT INTO users (user_id, username, total_pp, hit_acc, playtime, country, update_date) VALUES (?, ?, ?, ?, ?, ?, ?)\n",
      "2024-09-04 21:44:28,197 INFO sqlalchemy.engine.Engine [cached since 175.2s ago] (12345, 'EggTofu', 5000.25, 98.76, 3600, 'US', '2024-09-05 02:44:25.197586')\n",
      "2024-09-04 21:44:28,200 INFO sqlalchemy.engine.Engine COMMIT\n"
     ]
    }
   ],
   "source": [
    "session.add(new_user)\n",
    "session.commit()"
   ]
  }
 ],
 "metadata": {
  "kernelspec": {
   "display_name": ".venv",
   "language": "python",
   "name": "python3"
  },
  "language_info": {
   "codemirror_mode": {
    "name": "ipython",
    "version": 3
   },
   "file_extension": ".py",
   "mimetype": "text/x-python",
   "name": "python",
   "nbconvert_exporter": "python",
   "pygments_lexer": "ipython3",
   "version": "3.11.9"
  }
 },
 "nbformat": 4,
 "nbformat_minor": 2
}
