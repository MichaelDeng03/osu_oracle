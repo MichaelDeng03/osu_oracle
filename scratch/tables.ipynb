{
 "cells": [
  {
   "cell_type": "code",
   "execution_count": null,
   "metadata": {},
   "outputs": [],
   "source": [
    "from db.orm.models import Beatmap, ModeEnum, ModsEnum, Beatmapset, User, Score\n",
    "from db.orm.setup import Session\n",
    "from db.crud import create_generic, get_generic"
   ]
  },
  {
   "cell_type": "code",
   "execution_count": null,
   "metadata": {},
   "outputs": [],
   "source": [
    "with Session() as session:\n",
    "    user = User(id=69420)\n",
    "    user = create_generic(session, user)\n",
    "    user = get_generic(session, User, model_id=69421)"
   ]
  },
  {
   "cell_type": "code",
   "execution_count": null,
   "metadata": {},
   "outputs": [],
   "source": [
    "with Session() as session:\n",
    "    score = Score(mods=ModsEnum.DoubleTime, pp=1111, user_id=69420, beatmap_id=1)\n",
    "    create_generic(session, score)"
   ]
  },
  {
   "cell_type": "code",
   "execution_count": null,
   "metadata": {},
   "outputs": [],
   "source": [
    "with Session() as session:\n",
    "    user = get_generic(session, User, model_id=69420)\n",
    "    print(user.scores)"
   ]
  },
  {
   "cell_type": "code",
   "execution_count": null,
   "metadata": {},
   "outputs": [],
   "source": [
    "with Session() as session:\n",
    "    beatmap = Beatmap(id=1, beatmapset_id=1)\n",
    "    beatmap = create_generic(session, beatmap)"
   ]
  },
  {
   "cell_type": "code",
   "execution_count": null,
   "metadata": {},
   "outputs": [],
   "source": [
    "with Session() as session:\n",
    "    beatmap = get_generic(session, Beatmap, model_id=1)\n",
    "    print(beatmap)\n",
    "    print(beatmap.scores)"
   ]
  },
  {
   "cell_type": "code",
   "execution_count": null,
   "metadata": {},
   "outputs": [],
   "source": [
    "with Session() as session:\n",
    "    beatmapset = create_generic(session, Beatmapset(id=1))"
   ]
  }
 ],
 "metadata": {
  "kernelspec": {
   "display_name": ".venv",
   "language": "python",
   "name": "python3"
  },
  "language_info": {
   "codemirror_mode": {
    "name": "ipython",
    "version": 3
   },
   "file_extension": ".py",
   "mimetype": "text/x-python",
   "name": "python",
   "nbconvert_exporter": "python",
   "pygments_lexer": "ipython3",
   "version": "3.11.9"
  }
 },
 "nbformat": 4,
 "nbformat_minor": 2
}
