{
 "cells": [
  {
   "cell_type": "code",
   "execution_count": 1,
   "metadata": {},
   "outputs": [
    {
     "data": {
      "text/plain": [
       "'29545'"
      ]
     },
     "execution_count": 1,
     "metadata": {},
     "output_type": "execute_result"
    }
   ],
   "source": [
    "import os\n",
    "from ossapi import Ossapi\n",
    "import sqlite3\n",
    "from time import strftime, localtime\n",
    "import time\n",
    "from concurrent.futures import ThreadPoolExecutor\n",
    "import sys\n",
    "from numpy import array_split\n",
    "\n",
    "OSU_CLIENT_ID = os.environ.get('OSU_CLIENT_ID')\n",
    "OSU_CLIENT_SECRET = os.environ.get('OSU_CLIENT_SECRET')\n",
    "\n",
    "api = Ossapi(OSU_CLIENT_ID, OSU_CLIENT_SECRET)\n",
    "\n",
    "all_ids = "
   ]
  }
 ],
 "metadata": {
  "kernelspec": {
   "display_name": "osu_oracle_venv",
   "language": "python",
   "name": "python3"
  },
  "language_info": {
   "codemirror_mode": {
    "name": "ipython",
    "version": 3
   },
   "file_extension": ".py",
   "mimetype": "text/x-python",
   "name": "python",
   "nbconvert_exporter": "python",
   "pygments_lexer": "ipython3",
   "version": "3.10.12"
  }
 },
 "nbformat": 4,
 "nbformat_minor": 2
}
