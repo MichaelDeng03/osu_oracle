{
 "cells": [
  {
   "cell_type": "markdown",
   "metadata": {},
   "source": [
    "# Makes database and tables for this project.\n",
    "\n",
    "One-time setup. No reason to run it again.\n",
    "https://dbdiagram.io/d/osu-654e8e887d8bbd6465f40357\n"
   ]
  },
  {
   "cell_type": "code",
   "execution_count": 2,
   "metadata": {},
   "outputs": [],
   "source": [
    "import sqlite3\n",
    "conn = sqlite3.connect('osu2.db')\n",
    "cursor = conn.cursor()"
   ]
  },
  {
   "cell_type": "code",
   "execution_count": 3,
   "metadata": {},
   "outputs": [
    {
     "data": {
      "text/plain": [
       "<sqlite3.Cursor at 0x7fb41200cbc0>"
      ]
     },
     "execution_count": 3,
     "metadata": {},
     "output_type": "execute_result"
    }
   ],
   "source": [
    "# USERS\n",
    "query = \"\"\"CREATE TABLE users (\n",
    "  user_id INTEGER PRIMARY KEY,\n",
    "  username TEXT,\n",
    "  total_pp DOUBLE,\n",
    "  hit_acc DOUBLE,\n",
    "  ranked_score INTEGER,\n",
    "  play_count INTEGER,\n",
    "  last_update DATE,\n",
    "  playtime INTEGER,\n",
    "  count_50 INTEGER,\n",
    "  count_100 INTEGER,\n",
    "  count_300 INTEGER,\n",
    "  count_miss INTEGER,\n",
    "  total_hits INTEGER,\n",
    "  country TEXT,\n",
    "  join_date DATE,\n",
    "  update_date DATE\n",
    "); \"\"\"\n",
    "cursor.execute(query)\n",
    "conn.commit()"
   ]
  },
  {
   "cell_type": "code",
   "execution_count": 4,
   "metadata": {},
   "outputs": [],
   "source": [
    "# BEATMAPS\n",
    "query = \"\"\"CREATE TABLE beatmaps (\n",
    "  beatmap_id INTEGER PRIMARY KEY,\n",
    "  beatmapset_id INTEGER,\n",
    "  difficulty_rating INTEGER,\n",
    "  bpm DOUBLE,\n",
    "  count_circles INTEGER,\n",
    "  count_sliders INTEGER,\n",
    "  count_spinners INTEGER,\n",
    "  cs DOUBLE,\n",
    "  drain DOUBLE,\n",
    "  accuracy DOUBLE,\n",
    "  ar DOUBLE,\n",
    "  max_combo INTEGER,\n",
    "  length_seconds INTEGER,\n",
    "  author_id INTEGER,\n",
    "  mode_int INTEGER,\n",
    "  version TEXT, \n",
    "  FOREIGN KEY (beatmapset_id) REFERENCES beatmapsets(beatmapset_id),\n",
    "  FOREIGN KEY (author_id) REFERENCES users(user_id)\n",
    "); \"\"\"\n",
    "cursor.execute(query)\n",
    "conn.commit()\n"
   ]
  },
  {
   "cell_type": "code",
   "execution_count": 5,
   "metadata": {},
   "outputs": [],
   "source": [
    "# BEATMAPSETS\n",
    "query = \"\"\"CREATE TABLE beatmapsets (\n",
    "  beatmapset_id INTEGER PRIMARY KEY,\n",
    "  language TEXT,\n",
    "  nsfw BOOLEAN,\n",
    "  play_count INTEGER,\n",
    "  ranked_date DATE,\n",
    "  tags TEXT,\n",
    "  title TEXT,\n",
    "  artist TEXT,\n",
    "  author_id INTEGER,\n",
    "  FOREIGN KEY (author_id) REFERENCES users(user_id)\n",
    "); \"\"\"\n",
    "cursor.execute(query)\n",
    "conn.commit()"
   ]
  },
  {
   "cell_type": "code",
   "execution_count": 6,
   "metadata": {},
   "outputs": [],
   "source": [
    "# SCORES\n",
    "query = \"\"\"CREATE TABLE scores (\n",
    "  score_id INTEGER PRIMARY KEY,\n",
    "  user_id INTEGER,\n",
    "  beatmap_id INTEGER,\n",
    "  mods INTEGER,\n",
    "  score INTEGER,\n",
    "  max_combo INTEGER,\n",
    "  perfect BOOLEAN,\n",
    "  count_50 INTEGER,\n",
    "  count_100 INTEGER,\n",
    "  count_300 INTEGER,\n",
    "  count_geki INTEGER,\n",
    "  count_katu INTEGER,\n",
    "  count_miss INTEGER,\n",
    "  pp DOUBLE,\n",
    "  rank CHAR,\n",
    "  created_at DATE, \n",
    "  mode INTEGER,\n",
    "  FOREIGN KEY (user_id) REFERENCES users(user_id),\n",
    "  FOREIGN KEY (beatmap_id) REFERENCES beatmaps(beatmap_id)\n",
    ");\n",
    "\"\"\"\n",
    "cursor.execute(query)\n",
    "conn.commit()"
   ]
  },
  {
   "cell_type": "code",
   "execution_count": null,
   "metadata": {},
   "outputs": [],
   "source": [
    "cursor.execute(\"PRAGMA foreign_keys = ON\")\n",
    "conn.commit()\n",
    "conn.close()"
   ]
  }
 ],
 "metadata": {
  "kernelspec": {
   "display_name": "Python 3",
   "language": "python",
   "name": "python3"
  },
  "language_info": {
   "codemirror_mode": {
    "name": "ipython",
    "version": 3
   },
   "file_extension": ".py",
   "mimetype": "text/x-python",
   "name": "python",
   "nbconvert_exporter": "python",
   "pygments_lexer": "ipython3",
   "version": "3.10.12"
  }
 },
 "nbformat": 4,
 "nbformat_minor": 2
}
