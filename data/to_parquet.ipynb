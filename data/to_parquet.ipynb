{
 "cells": [
  {
   "cell_type": "markdown",
   "metadata": {},
   "source": [
    "Converts sqlite3 data into parquet format. "
   ]
  },
  {
   "cell_type": "code",
   "execution_count": 2,
   "metadata": {},
   "outputs": [],
   "source": [
    "import pandas as pd\n",
    "import sqlite3\n",
    "import sys\n",
    "sys.path.insert(0, \"../\") # Required for database in different directory. \n"
   ]
  },
  {
   "cell_type": "code",
   "execution_count": 3,
   "metadata": {},
   "outputs": [],
   "source": [
    "top_or_recent = 'top'\n",
    "mode = 'std'\n",
    "\n",
    "class ScoreGen:\n",
    "    def __init__(self, top_or_recent = 'top', mode = 'std', keepHD = True):\n",
    "        self.conn = sqlite3.connect('../data/UserScores.db')\n",
    "        self.cursor = self.conn.cursor()\n",
    "        self.top_or_recent = top_or_recent\n",
    "        self.mode = mode\n",
    "        \n",
    "        NF = 1\n",
    "        HD = 8  # Removed only for no HD\n",
    "        SD = 32\n",
    "        NC = 512\n",
    "        SO = 4096\n",
    "        PF = 16384\n",
    "        SV2 = 536870912\n",
    "        \n",
    "        if keepHD:\n",
    "            self.mods_removed = NF | SD | SO | PF | SV2\n",
    "        else:\n",
    "            self.mods_removed = NF | SD | HD | SO | PF | SV2\n",
    "            \n",
    "    def replace_nc_with_dt(self, mods):\n",
    "        # Remove NC and add DT if NC is present\n",
    "        if mods & 4096:\n",
    "            mods &= ~self.NC  # Remove NC\n",
    "            mods |= self.DT   # Add DT\n",
    "        return mods\n",
    "    \n",
    "    def __iter__(self):\n",
    "        ids = self.cursor.execute(f\"SELECT DISTINCT user_id FROM {self.top_or_recent}_scores_{self.mode}\").fetchall()\n",
    "        # ids = [(19008254, )]\n",
    "        for id in ids:\n",
    "            id = id[0]\n",
    "            scores = self.cursor.execute(f\"SELECT beatmap_id, mods FROM {self.top_or_recent}_scores_{self.mode} WHERE user_id = ? ORDER BY created_at DESC\", (id,)).fetchall()\n",
    "            \n",
    "            to_yield = []\n",
    "            for score in scores:\n",
    "                bm_id, mods = score\n",
    "                mods &= ~self.mods_removed\n",
    "                mods = self.replace_nc_with_dt(mods)\n",
    "                \n",
    "                to_yield.append(str(bm_id) + '-' + str(mods))\n",
    "            \n",
    "            yield to_yield\n",
    "        \n",
    "        self.conn.close()\n",
    "\n",
    "gen = ScoreGen(top_or_recent, mode)\n",
    "sentences = list(gen)"
   ]
  },
  {
   "cell_type": "code",
   "execution_count": 4,
   "metadata": {},
   "outputs": [],
   "source": [
    "df = pd.DataFrame({'sentences': sentences})\n",
    "df.to_parquet(f'{top_or_recent}_sentences_{mode}.parquet', engine='pyarrow')\n"
   ]
  }
 ],
 "metadata": {
  "kernelspec": {
   "display_name": "osu_oracle_venv",
   "language": "python",
   "name": "python3"
  },
  "language_info": {
   "codemirror_mode": {
    "name": "ipython",
    "version": 3
   },
   "file_extension": ".py",
   "mimetype": "text/x-python",
   "name": "python",
   "nbconvert_exporter": "python",
   "pygments_lexer": "ipython3",
   "version": "3.10.12"
  }
 },
 "nbformat": 4,
 "nbformat_minor": 2
}
