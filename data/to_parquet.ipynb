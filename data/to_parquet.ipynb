{
 "cells": [
  {
   "cell_type": "markdown",
   "metadata": {},
   "source": [
    "Converts sqlite3 data into parquet format. "
   ]
  },
  {
   "cell_type": "code",
   "execution_count": 1,
   "metadata": {},
   "outputs": [],
   "source": [
    "import pandas as pd\n",
    "import sqlite3\n",
    "import sys\n",
    "sys.path.insert(0, \"../\") # Required for database in different directory. \n"
   ]
  },
  {
   "cell_type": "code",
   "execution_count": 2,
   "metadata": {},
   "outputs": [],
   "source": [
    "top_or_recent = 'top'\n",
    "mode = 'std'\n",
    "\n",
    "class ScoreGen:\n",
    "    def __init__(self, top_or_recent = 'top', mode = 'std', keepHD = True):\n",
    "        self.conn = sqlite3.connect('../data/UserScores.db')\n",
    "        self.cursor = self.conn.cursor()\n",
    "        self.top_or_recent = top_or_recent\n",
    "        self.mode = mode\n",
    "        \n",
    "        NF = 1\n",
    "        HD = 8  # Removed only for no HD\n",
    "        SD = 32\n",
    "        NC = 512\n",
    "        SO = 4096\n",
    "        PF = 16384\n",
    "        SV2 = 536870912\n",
    "        \n",
    "        if keepHD:\n",
    "            self.mods_removed = NF | SD | SO | PF | SV2 | NC\n",
    "        else:\n",
    "            self.mods_removed = NF | SD | HD | SO | PF | SV2 | NC\n",
    "            \n",
    "    def __iter__(self):\n",
    "        ids = self.cursor.execute(f\"SELECT DISTINCT user_id FROM {self.top_or_recent}_scores_{self.mode}\").fetchall()\n",
    "        # ids = [(19008254, )]\n",
    "        for id in ids:\n",
    "            id = id[0]\n",
    "            scores = self.cursor.execute(f\"SELECT beatmap_id, mods FROM {self.top_or_recent}_scores_{self.mode} WHERE user_id = ? ORDER BY created_at DESC\", (id,)).fetchall()\n",
    "            \n",
    "            to_yield = []\n",
    "            for score in scores:\n",
    "                bm_id, mods = score\n",
    "                mods &= ~self.mods_removed\n",
    "                \n",
    "                to_yield.append(str(bm_id) + '-' + str(mods))\n",
    "            \n",
    "            yield to_yield\n",
    "        \n",
    "        self.conn.close()\n",
    "\n",
    "gen = ScoreGen(top_or_recent, mode)\n",
    "sentences = list(gen)"
   ]
  },
  {
   "cell_type": "code",
   "execution_count": 4,
   "metadata": {},
   "outputs": [
    {
     "data": {
      "text/html": [
       "<div>\n",
       "<style scoped>\n",
       "    .dataframe tbody tr th:only-of-type {\n",
       "        vertical-align: middle;\n",
       "    }\n",
       "\n",
       "    .dataframe tbody tr th {\n",
       "        vertical-align: top;\n",
       "    }\n",
       "\n",
       "    .dataframe thead th {\n",
       "        text-align: right;\n",
       "    }\n",
       "</style>\n",
       "<table border=\"1\" class=\"dataframe\">\n",
       "  <thead>\n",
       "    <tr style=\"text-align: right;\">\n",
       "      <th></th>\n",
       "      <th>sentences</th>\n",
       "    </tr>\n",
       "  </thead>\n",
       "  <tbody>\n",
       "    <tr>\n",
       "      <th>0</th>\n",
       "      <td>[1988753-0, 786021-0, 207659-0, 1608832-0, 252...</td>\n",
       "    </tr>\n",
       "    <tr>\n",
       "      <th>1</th>\n",
       "      <td>[1385212-0, 1269345-0, 1561706-0, 1535742-0, 1...</td>\n",
       "    </tr>\n",
       "    <tr>\n",
       "      <th>2</th>\n",
       "      <td>[189861-0, 189861-0, 298162-0, 298162-0, 16305...</td>\n",
       "    </tr>\n",
       "    <tr>\n",
       "      <th>3</th>\n",
       "      <td>[1675842-0, 1675842-0, 653335-0, 653335-0, 743...</td>\n",
       "    </tr>\n",
       "    <tr>\n",
       "      <th>4</th>\n",
       "      <td>[295-0, 295-0, 4566-0, 4566-0, 10462-0, 10462-...</td>\n",
       "    </tr>\n",
       "  </tbody>\n",
       "</table>\n",
       "</div>"
      ],
      "text/plain": [
       "                                           sentences\n",
       "0  [1988753-0, 786021-0, 207659-0, 1608832-0, 252...\n",
       "1  [1385212-0, 1269345-0, 1561706-0, 1535742-0, 1...\n",
       "2  [189861-0, 189861-0, 298162-0, 298162-0, 16305...\n",
       "3  [1675842-0, 1675842-0, 653335-0, 653335-0, 743...\n",
       "4  [295-0, 295-0, 4566-0, 4566-0, 10462-0, 10462-..."
      ]
     },
     "execution_count": 4,
     "metadata": {},
     "output_type": "execute_result"
    }
   ],
   "source": [
    "df = pd.DataFrame({'sentences': sentences})\n",
    "# df.to_parquet(f'{top_or_recent}_sentences_{mode}.parquet', engine='pyarrow')"
   ]
  },
  {
   "cell_type": "code",
   "execution_count": 2,
   "metadata": {},
   "outputs": [],
   "source": [
    "df2 = pd.read_parquet('../data/hiscore_updates.parquet', engine='pyarrow')\n"
   ]
  },
  {
   "cell_type": "code",
   "execution_count": 4,
   "metadata": {},
   "outputs": [
    {
     "name": "stdout",
     "output_type": "stream",
     "text": [
      "56995129\n"
     ]
    },
    {
     "data": {
      "text/html": [
       "<div>\n",
       "<style scoped>\n",
       "    .dataframe tbody tr th:only-of-type {\n",
       "        vertical-align: middle;\n",
       "    }\n",
       "\n",
       "    .dataframe tbody tr th {\n",
       "        vertical-align: top;\n",
       "    }\n",
       "\n",
       "    .dataframe thead th {\n",
       "        text-align: right;\n",
       "    }\n",
       "</style>\n",
       "<table border=\"1\" class=\"dataframe\">\n",
       "  <thead>\n",
       "    <tr style=\"text-align: right;\">\n",
       "      <th></th>\n",
       "      <th>user</th>\n",
       "      <th>beatmap_id</th>\n",
       "      <th>score</th>\n",
       "      <th>pp</th>\n",
       "      <th>mods</th>\n",
       "      <th>rank</th>\n",
       "      <th>score_time</th>\n",
       "      <th>update_time</th>\n",
       "      <th>mode</th>\n",
       "      <th>is_classic</th>\n",
       "    </tr>\n",
       "  </thead>\n",
       "  <tbody>\n",
       "    <tr>\n",
       "      <th>0</th>\n",
       "      <td>2</td>\n",
       "      <td>75</td>\n",
       "      <td>1456312</td>\n",
       "      <td>22.7605</td>\n",
       "      <td>0</td>\n",
       "      <td>S</td>\n",
       "      <td>2007-10-06 12:14:34</td>\n",
       "      <td>2015-02-27 04:27:38</td>\n",
       "      <td>0</td>\n",
       "      <td>1</td>\n",
       "    </tr>\n",
       "    <tr>\n",
       "      <th>1</th>\n",
       "      <td>2</td>\n",
       "      <td>113</td>\n",
       "      <td>2783184</td>\n",
       "      <td>19.7545</td>\n",
       "      <td>0</td>\n",
       "      <td>S</td>\n",
       "      <td>2007-10-07 21:25:30</td>\n",
       "      <td>2022-10-01 11:25:16</td>\n",
       "      <td>0</td>\n",
       "      <td>1</td>\n",
       "    </tr>\n",
       "    <tr>\n",
       "      <th>2</th>\n",
       "      <td>2</td>\n",
       "      <td>113</td>\n",
       "      <td>2783184</td>\n",
       "      <td>17.8410</td>\n",
       "      <td>0</td>\n",
       "      <td>S</td>\n",
       "      <td>2007-10-08 05:25:30</td>\n",
       "      <td>2016-07-26 21:36:09</td>\n",
       "      <td>0</td>\n",
       "      <td>1</td>\n",
       "    </tr>\n",
       "    <tr>\n",
       "      <th>3</th>\n",
       "      <td>2</td>\n",
       "      <td>160</td>\n",
       "      <td>570714</td>\n",
       "      <td>15.4234</td>\n",
       "      <td>0</td>\n",
       "      <td>S</td>\n",
       "      <td>2007-10-09 02:47:16</td>\n",
       "      <td>2022-10-01 11:25:16</td>\n",
       "      <td>0</td>\n",
       "      <td>1</td>\n",
       "    </tr>\n",
       "    <tr>\n",
       "      <th>4</th>\n",
       "      <td>2</td>\n",
       "      <td>182</td>\n",
       "      <td>461660</td>\n",
       "      <td>20.3939</td>\n",
       "      <td>0</td>\n",
       "      <td>C</td>\n",
       "      <td>2007-10-13 03:47:01</td>\n",
       "      <td>2019-02-07 17:01:09</td>\n",
       "      <td>0</td>\n",
       "      <td>1</td>\n",
       "    </tr>\n",
       "  </tbody>\n",
       "</table>\n",
       "</div>"
      ],
      "text/plain": [
       "   user  beatmap_id    score       pp  mods rank          score_time  \\\n",
       "0     2          75  1456312  22.7605     0    S 2007-10-06 12:14:34   \n",
       "1     2         113  2783184  19.7545     0    S 2007-10-07 21:25:30   \n",
       "2     2         113  2783184  17.8410     0    S 2007-10-08 05:25:30   \n",
       "3     2         160   570714  15.4234     0    S 2007-10-09 02:47:16   \n",
       "4     2         182   461660  20.3939     0    C 2007-10-13 03:47:01   \n",
       "\n",
       "          update_time  mode  is_classic  \n",
       "0 2015-02-27 04:27:38     0           1  \n",
       "1 2022-10-01 11:25:16     0           1  \n",
       "2 2016-07-26 21:36:09     0           1  \n",
       "3 2022-10-01 11:25:16     0           1  \n",
       "4 2019-02-07 17:01:09     0           1  "
      ]
     },
     "execution_count": 4,
     "metadata": {},
     "output_type": "execute_result"
    }
   ],
   "source": [
    "print(len(df2))\n",
    "df2.head()"
   ]
  },
  {
   "cell_type": "code",
   "execution_count": 4,
   "metadata": {},
   "outputs": [
    {
     "ename": "",
     "evalue": "",
     "output_type": "error",
     "traceback": [
      "\u001b[1;31mThe Kernel crashed while executing code in the current cell or a previous cell. \n",
      "\u001b[1;31mPlease review the code in the cell(s) to identify a possible cause of the failure. \n",
      "\u001b[1;31mClick <a href='https://aka.ms/vscodeJupyterKernelCrash'>here</a> for more info. \n",
      "\u001b[1;31mView Jupyter <a href='command:jupyter.viewOutput'>log</a> for further details."
     ]
    }
   ],
   "source": [
    "result_df = df2.groupby('user').apply(lambda x: x.nlargest(100, 'pp')).reset_index(drop=True)"
   ]
  }
 ],
 "metadata": {
  "kernelspec": {
   "display_name": "osu_oracle_venv",
   "language": "python",
   "name": "python3"
  },
  "language_info": {
   "codemirror_mode": {
    "name": "ipython",
    "version": 3
   },
   "file_extension": ".py",
   "mimetype": "text/x-python",
   "name": "python",
   "nbconvert_exporter": "python",
   "pygments_lexer": "ipython3",
   "version": "3.10.12"
  }
 },
 "nbformat": 4,
 "nbformat_minor": 2
}
